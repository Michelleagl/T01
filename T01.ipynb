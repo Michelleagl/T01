{
 "cells": [
  {
   "cell_type": "markdown",
   "id": "c78bc2eb",
   "metadata": {},
   "source": [
    "# Tarea 01\n",
    "## Presentación personal e introducción a un tema de tu licenciatura\n",
    "\n",
    "Michelle Alejandra Gómez López\n",
    "**741902**\n"
   ]
  },
  {
   "cell_type": "markdown",
   "id": "a08e4234",
   "metadata": {},
   "source": [
    "Me llamo Michelle, tengo 20 años y estudio Ing. Financiera aquí en ITESO, actualmente curso 4to semestre. Me gusta mucho practicar deportes, en especial fútbol y tenis; tambien me gusta mucho la música, géneros como el pop, r&b y hip hop son mis favoritos. Disfruto de ver series y películas algunas de ellas son:\n",
    "\n",
    "*Películas*\n",
    "<ul>\n",
    "    <li>10 cosas que odio de ti</li>\n",
    "    <li>La propuesta</li>\n",
    "    <li>La la land</li>\n",
    "    \n",
    "    \n",
    "*Series*\n",
    "<ul>\n",
    "    <li>The Office</li>\n",
    "    <li>Modern Family</li>\n",
    "    <li>Grey's Anatomy</li>    \n"
   ]
  },
  {
   "cell_type": "markdown",
   "id": "0e859a29",
   "metadata": {},
   "source": [
    "![](https://economipedia.com/wp-content/uploads/Finanzas-definicion-1.png)"
   ]
  },
  {
   "cell_type": "markdown",
   "id": "46ba835b",
   "metadata": {},
   "source": [
    "Me gusto mi carrera porque en mi prepa  el útimo año estaba en el área de Administración y todas las materias me llamaban la atención, pensé estudiar solo finanzas pero se me hizo que la carrera de Ingenieria Financiera era más completa. Varias materias que lleve en la prepa son muy parecidas o iguales a las que llevo actualmente.\n",
    "\n",
    "\n",
    "**Algunas materias**\n",
    "<ol>\n",
    "    <li> Cálculo (diferencial, integral, multivariable y estocástico)</li>\n",
    "    <li> Derecho</li>\n",
    "    <li> Bolsa de Valores</li>\n",
    "    <li> Información Financiera</li>\n",
    "    <li> Probabilidad y estadística</li>\n",
    "    <li> Algebra Lineal</li>\n",
    "    <li> Economía</li>\n",
    "</ol>\n"
   ]
  },
  {
   "cell_type": "markdown",
   "id": "7ad1b841",
   "metadata": {},
   "source": [
    "La idea básica del cálculo integral es encontrar el área bajo una curva. Para encontrarla exactamente, podemos dividirla en un número infinito de rectángulos con bases infinitesimalmente pequeñas y sumar sus áreas; ¡el cálculo es fantástico para trabajar con cosas infinitas! Esta idea de hecho es muy rica, y se encuentra estrechamente relacionada con el cálculo diferencial. \n",
    "\n",
    "La formulación del área bajo una curva es el primer paso para desarrollar el concepto de integral. El área bajo la curva formada por el trazo de la función f(x) y el eje x se puede obtener aproximadamente, dibujando rectángulos de anchura finita y altura f igual al valor de la función en el centro del intervalo.\n",
    "\n",
    "\n",
    "$$ Área= lim _{i=1} ^{N} f_(x)dx$$"
   ]
  },
  {
   "cell_type": "markdown",
   "id": "ad66f5a1",
   "metadata": {},
   "source": [
    "Introducción al cálculo integral (video). (s. f.). Khan Academy. https://es.khanacademy.org/math/ap-calculus-ab/ab-integration-new/ab-6-1/v/introduction-to-integral-calculus\n",
    "\n",
    "Integral. (s. f.). http://hyperphysics.phy-astr.gsu.edu/hbasees/integ.html"
   ]
  }
 ],
 "metadata": {
  "kernelspec": {
   "display_name": "Python 3 (ipykernel)",
   "language": "python",
   "name": "python3"
  },
  "language_info": {
   "codemirror_mode": {
    "name": "ipython",
    "version": 3
   },
   "file_extension": ".py",
   "mimetype": "text/x-python",
   "name": "python",
   "nbconvert_exporter": "python",
   "pygments_lexer": "ipython3",
   "version": "3.9.13"
  }
 },
 "nbformat": 4,
 "nbformat_minor": 5
}
